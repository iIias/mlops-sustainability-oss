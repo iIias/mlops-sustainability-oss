{
    "cells": [
        {
            "attachments": {},
            "cell_type": "markdown",
            "metadata": {},
            "source": [
                "## Deploy the Saved Model in the project to Deployment Space"
            ]
        },
        {
            "attachments": {},
            "cell_type": "markdown",
            "metadata": {},
            "source": [
                "When this notebook is executed, we expect <br>**(1)** Serialized model tracked with DVC <br>**(2)** Knowledge of the models location within DVCFileSystem (Path within Git Repository for DVC tracking)\n",
                "\n",
                "Steps covered in this notebook:\n",
                "1. Retrieve parameters\n",
                "2. Retrieve DVC-tracked model from COS\n",
                "3. Prepare Watson Machine Learning environment for Model Deployment\n",
                "4. Retrieve DVC-tracked trainin data reference from COS\n",
                "5. Deploy Model\n",
                "6. Model Testing on the Serving Endpoint"
            ]
        },
        {
            "attachments": {},
            "cell_type": "markdown",
            "metadata": {},
            "source": [
                "### The following cell is a way to get the utility script required for this notebook. \n",
                "Since IBM CPD SaaS doesn't have a filesystem, this is the only reliable way to get scripts on the cloud environment. \n",
                "```\n",
                "!rm -rf MLOps-CPD && git clone --quiet -b master https://github.com/IBM/MLOps-CPD.git\n",
                "```\n",
                "⚠️ Run the following cells only if you are executing on IBM CPD SaaS."
            ]
        },
        {
            "cell_type": "code",
            "execution_count": null,
            "metadata": {},
            "outputs": [],
            "source": [
                "#!rm -rf MLOps-CPD && git clone --quiet -b master https://github.com/IBM/MLOps-CPD.git"
            ]
        },
        {
            "cell_type": "code",
            "execution_count": null,
            "metadata": {},
            "outputs": [],
            "source": [
                "#!mv MLOps-CPD MLOps_CPD"
            ]
        },
        {
            "cell_type": "code",
            "execution_count": null,
            "metadata": {},
            "outputs": [],
            "source": [
                "!python3 -m pip install ibm_watson_machine_learning"
            ]
        },
        {
            "cell_type": "code",
            "execution_count": 2,
            "metadata": {},
            "outputs": [],
            "source": [
                "from ibm_watson_studio_pipelines import WSPipelines\n",
                "from ibm_watson_machine_learning import APIClient\n",
                "import ibm_boto3\n",
                "\n",
                "from botocore.client import Config\n",
                "from sklearn.model_selection import train_test_split\n",
                "from dataclasses import dataclass\n",
                "import numpy as np\n",
                "import pandas as pd\n",
                "\n",
                "import pickle\n",
                "import dvc.api\n",
                "import io\n",
                "\n",
                "import logging\n",
                "import os, types\n",
                "import warnings\n",
                "\n",
                "warnings.filterwarnings(\"ignore\")"
            ]
        },
        {
            "attachments": {},
            "cell_type": "markdown",
            "metadata": {},
            "source": [
                "## Succeeding cell contains the credentials for MLOps COS\n",
                "```\n",
                "## PROJECT COS \n",
                "AUTH_ENDPOINT = \"https://iam.cloud.ibm.com/oidc/token\"\n",
                "ENDPOINT_URL = \"https://s3.private.us.cloud-object-storage.appdomain.cloud\"\n",
                "API_KEY_COS = \"xxx\"\n",
                "BUCKET_PROJECT_COS = \"mlops-donotdelete-pr-qxxcecxi1dtw94\"\n",
                "\n",
                "## MLOPS COS\n",
                "ENDPOINT_URL_MLOPS = \"https://s3.jp-tok.cloud-object-storage.appdomain.cloud\"\n",
                "API_KEY_MLOPS = \"xxx\"\n",
                "CRN_MLOPS = \"xxx\"\n",
                "BUCKET_MLOPS  = \"mlops-asset\"\n",
                "\n",
                "## CATALOG\n",
                "CATALOG_NAME = \"MLOps-ns\"\n",
                "```"
            ]
        },
        {
            "attachments": {},
            "cell_type": "markdown",
            "metadata": {},
            "source": [
                "### 1. Retrieve Parameters"
            ]
        },
        {
            "cell_type": "code",
            "execution_count": 3,
            "metadata": {},
            "outputs": [],
            "source": [
                "# For testing: Uncomment this cell and put your credentials in credentials.py to run locally.\n",
                "# from credentials import set_env_variables_for_credentials\n",
                "# set_env_variables_for_credentials()"
            ]
        },
        {
            "attachments": {},
            "cell_type": "markdown",
            "metadata": {},
            "source": [
                "#### Pipeline Environment"
            ]
        },
        {
            "cell_type": "code",
            "execution_count": 4,
            "metadata": {},
            "outputs": [],
            "source": [
                "CLOUD_API_KEY = os.getenv(\"CLOUD_API_KEY\")\n",
                "\n",
                "# Model parameters\n",
                "MODEL_NAME = os.getenv(\"model_name\")\n",
                "DEPLOYMENT_NAME = os.getenv(\"deployment_name\")\n",
                "SPACE_ID = os.getenv(\"space_id\") # Deployment Space Id to deploy to\n",
                "# \"ff681eb5-f5aa-4bf9-9c26-a7fbef89853f\"\n",
                "# model_id = os.getenv('model_id')"
            ]
        },
        {
            "attachments": {},
            "cell_type": "markdown",
            "metadata": {},
            "source": [
                "#### Cloud Object Storage (COS) Credentials"
            ]
        },
        {
            "cell_type": "code",
            "execution_count": 6,
            "metadata": {},
            "outputs": [],
            "source": [
                "GIT_REPOSITORY = os.getenv(\"GIT_REPOSITORY\")\n",
                "model_dvc_location = os.getenv(\"model_dvc_location\")\n",
                "train_package_dvc_location = os.getenv(\"train_package_dvc_location\") \n",
                "test_package_dvc_location = os.getenv(\"test_package_dvc_location\")"
            ]
        },
        {
            "cell_type": "code",
            "execution_count": 7,
            "metadata": {},
            "outputs": [],
            "source": [
                "# For testing\n",
                "# train_package_dvc_location = \"data/train_package.pkl\"\n",
                "# test_package_dvc_location = \"data/test_package.pkl\""
            ]
        },
        {
            "attachments": {},
            "cell_type": "markdown",
            "metadata": {},
            "source": [
                "### 2. Retrieve DVC-tracked model from COS"
            ]
        },
        {
            "cell_type": "code",
            "execution_count": null,
            "metadata": {},
            "outputs": [],
            "source": [
                "def read_dvc_tracked_data_from_cos(dvc_path, repo, mode='rb'):\n",
                "    return pickle.load(io.BytesIO(dvc.api.read(dvc_path,repo=repo, mode=mode)))"
            ]
        },
        {
            "cell_type": "code",
            "execution_count": 14,
            "metadata": {},
            "outputs": [
                {
                    "data": {
                        "text/html": [
                            "<style>#sk-container-id-1 {color: black;background-color: white;}#sk-container-id-1 pre{padding: 0;}#sk-container-id-1 div.sk-toggleable {background-color: white;}#sk-container-id-1 label.sk-toggleable__label {cursor: pointer;display: block;width: 100%;margin-bottom: 0;padding: 0.3em;box-sizing: border-box;text-align: center;}#sk-container-id-1 label.sk-toggleable__label-arrow:before {content: \"▸\";float: left;margin-right: 0.25em;color: #696969;}#sk-container-id-1 label.sk-toggleable__label-arrow:hover:before {color: black;}#sk-container-id-1 div.sk-estimator:hover label.sk-toggleable__label-arrow:before {color: black;}#sk-container-id-1 div.sk-toggleable__content {max-height: 0;max-width: 0;overflow: hidden;text-align: left;background-color: #f0f8ff;}#sk-container-id-1 div.sk-toggleable__content pre {margin: 0.2em;color: black;border-radius: 0.25em;background-color: #f0f8ff;}#sk-container-id-1 input.sk-toggleable__control:checked~div.sk-toggleable__content {max-height: 200px;max-width: 100%;overflow: auto;}#sk-container-id-1 input.sk-toggleable__control:checked~label.sk-toggleable__label-arrow:before {content: \"▾\";}#sk-container-id-1 div.sk-estimator input.sk-toggleable__control:checked~label.sk-toggleable__label {background-color: #d4ebff;}#sk-container-id-1 div.sk-label input.sk-toggleable__control:checked~label.sk-toggleable__label {background-color: #d4ebff;}#sk-container-id-1 input.sk-hidden--visually {border: 0;clip: rect(1px 1px 1px 1px);clip: rect(1px, 1px, 1px, 1px);height: 1px;margin: -1px;overflow: hidden;padding: 0;position: absolute;width: 1px;}#sk-container-id-1 div.sk-estimator {font-family: monospace;background-color: #f0f8ff;border: 1px dotted black;border-radius: 0.25em;box-sizing: border-box;margin-bottom: 0.5em;}#sk-container-id-1 div.sk-estimator:hover {background-color: #d4ebff;}#sk-container-id-1 div.sk-parallel-item::after {content: \"\";width: 100%;border-bottom: 1px solid gray;flex-grow: 1;}#sk-container-id-1 div.sk-label:hover label.sk-toggleable__label {background-color: #d4ebff;}#sk-container-id-1 div.sk-serial::before {content: \"\";position: absolute;border-left: 1px solid gray;box-sizing: border-box;top: 0;bottom: 0;left: 50%;z-index: 0;}#sk-container-id-1 div.sk-serial {display: flex;flex-direction: column;align-items: center;background-color: white;padding-right: 0.2em;padding-left: 0.2em;position: relative;}#sk-container-id-1 div.sk-item {position: relative;z-index: 1;}#sk-container-id-1 div.sk-parallel {display: flex;align-items: stretch;justify-content: center;background-color: white;position: relative;}#sk-container-id-1 div.sk-item::before, #sk-container-id-1 div.sk-parallel-item::before {content: \"\";position: absolute;border-left: 1px solid gray;box-sizing: border-box;top: 0;bottom: 0;left: 50%;z-index: -1;}#sk-container-id-1 div.sk-parallel-item {display: flex;flex-direction: column;z-index: 1;position: relative;background-color: white;}#sk-container-id-1 div.sk-parallel-item:first-child::after {align-self: flex-end;width: 50%;}#sk-container-id-1 div.sk-parallel-item:last-child::after {align-self: flex-start;width: 50%;}#sk-container-id-1 div.sk-parallel-item:only-child::after {width: 0;}#sk-container-id-1 div.sk-dashed-wrapped {border: 1px dashed gray;margin: 0 0.4em 0.5em 0.4em;box-sizing: border-box;padding-bottom: 0.4em;background-color: white;}#sk-container-id-1 div.sk-label label {font-family: monospace;font-weight: bold;display: inline-block;line-height: 1.2em;}#sk-container-id-1 div.sk-label-container {text-align: center;}#sk-container-id-1 div.sk-container {/* jupyter's `normalize.less` sets `[hidden] { display: none; }` but bootstrap.min.css set `[hidden] { display: none !important; }` so we also need the `!important` here to be able to override the default hidden behavior on the sphinx rendered scikit-learn.org. See: https://github.com/scikit-learn/scikit-learn/issues/21755 */display: inline-block !important;position: relative;}#sk-container-id-1 div.sk-text-repr-fallback {display: none;}</style><div id=\"sk-container-id-1\" class=\"sk-top-container\"><div class=\"sk-text-repr-fallback\"><pre>XGBRegressor(base_score=None, booster=None, callbacks=None,\n",
                            "             colsample_bylevel=None, colsample_bynode=None,\n",
                            "             colsample_bytree=0.6, early_stopping_rounds=None,\n",
                            "             enable_categorical=False, eval_metric=None, feature_types=None,\n",
                            "             gamma=0.1, gpu_id=None, grow_policy=None, importance_type=None,\n",
                            "             interaction_constraints=None, learning_rate=0.001, max_bin=None,\n",
                            "             max_cat_threshold=None, max_cat_to_onehot=None,\n",
                            "             max_delta_step=None, max_depth=4, max_leaves=None,\n",
                            "             min_child_weight=None, missing=nan, monotone_constraints=None,\n",
                            "             n_estimators=500, n_jobs=None, num_parallel_tree=None,\n",
                            "             predictor=None, random_state=42, ...)</pre><b>In a Jupyter environment, please rerun this cell to show the HTML representation or trust the notebook. <br />On GitHub, the HTML representation is unable to render, please try loading this page with nbviewer.org.</b></div><div class=\"sk-container\" hidden><div class=\"sk-item\"><div class=\"sk-estimator sk-toggleable\"><input class=\"sk-toggleable__control sk-hidden--visually\" id=\"sk-estimator-id-1\" type=\"checkbox\" checked><label for=\"sk-estimator-id-1\" class=\"sk-toggleable__label sk-toggleable__label-arrow\">XGBRegressor</label><div class=\"sk-toggleable__content\"><pre>XGBRegressor(base_score=None, booster=None, callbacks=None,\n",
                            "             colsample_bylevel=None, colsample_bynode=None,\n",
                            "             colsample_bytree=0.6, early_stopping_rounds=None,\n",
                            "             enable_categorical=False, eval_metric=None, feature_types=None,\n",
                            "             gamma=0.1, gpu_id=None, grow_policy=None, importance_type=None,\n",
                            "             interaction_constraints=None, learning_rate=0.001, max_bin=None,\n",
                            "             max_cat_threshold=None, max_cat_to_onehot=None,\n",
                            "             max_delta_step=None, max_depth=4, max_leaves=None,\n",
                            "             min_child_weight=None, missing=nan, monotone_constraints=None,\n",
                            "             n_estimators=500, n_jobs=None, num_parallel_tree=None,\n",
                            "             predictor=None, random_state=42, ...)</pre></div></div></div></div></div>"
                        ],
                        "text/plain": [
                            "XGBRegressor(base_score=None, booster=None, callbacks=None,\n",
                            "             colsample_bylevel=None, colsample_bynode=None,\n",
                            "             colsample_bytree=0.6, early_stopping_rounds=None,\n",
                            "             enable_categorical=False, eval_metric=None, feature_types=None,\n",
                            "             gamma=0.1, gpu_id=None, grow_policy=None, importance_type=None,\n",
                            "             interaction_constraints=None, learning_rate=0.001, max_bin=None,\n",
                            "             max_cat_threshold=None, max_cat_to_onehot=None,\n",
                            "             max_delta_step=None, max_depth=4, max_leaves=None,\n",
                            "             min_child_weight=None, missing=nan, monotone_constraints=None,\n",
                            "             n_estimators=500, n_jobs=None, num_parallel_tree=None,\n",
                            "             predictor=None, random_state=42, ...)"
                        ]
                    },
                    "execution_count": 14,
                    "metadata": {},
                    "output_type": "execute_result"
                }
            ],
            "source": [
                "model = read_dvc_tracked_data_from_cos(\"model/xgbr.pkl\", GIT_REPOSITORY)\n",
                "model"
            ]
        },
        {
            "attachments": {},
            "cell_type": "markdown",
            "metadata": {},
            "source": [
                "### 3. Prepare Watson Machine Learning environment for Model Deployment"
            ]
        },
        {
            "attachments": {},
            "cell_type": "markdown",
            "metadata": {},
            "source": [
                "#### Instantiate WML Client"
            ]
        },
        {
            "cell_type": "code",
            "execution_count": 9,
            "metadata": {},
            "outputs": [],
            "source": [
                "url_frankfurt = \"https://eu-de.ml.cloud.ibm.com\"\n",
                "url_dallas = \"https://us-south.ml.cloud.ibm.com\""
            ]
        },
        {
            "cell_type": "code",
            "execution_count": 10,
            "metadata": {},
            "outputs": [
                {
                    "data": {
                        "text/plain": [
                            "'1.0.302'"
                        ]
                    },
                    "execution_count": 10,
                    "metadata": {},
                    "output_type": "execute_result"
                }
            ],
            "source": [
                "WML_CREDENTIALS = {\n",
                "                   \"url\": url_dallas,\n",
                "                   \"apikey\": CLOUD_API_KEY\n",
                "            }\n",
                "\n",
                "\n",
                "wml_client = APIClient(WML_CREDENTIALS)\n",
                "wml_client.version"
            ]
        },
        {
            "cell_type": "code",
            "execution_count": 12,
            "metadata": {},
            "outputs": [
                {
                    "data": {
                        "text/plain": [
                            "'SUCCESS'"
                        ]
                    },
                    "execution_count": 12,
                    "metadata": {},
                    "output_type": "execute_result"
                }
            ],
            "source": [
                "wml_client.set.default_space(SPACE_ID)"
            ]
        },
        {
            "cell_type": "code",
            "execution_count": 15,
            "metadata": {},
            "outputs": [
                {
                    "data": {
                        "text/plain": [
                            "'b56101f1-309d-549b-a849-eaa63f77b2fb'"
                        ]
                    },
                    "execution_count": 15,
                    "metadata": {},
                    "output_type": "execute_result"
                }
            ],
            "source": [
                "software_spec_uid = wml_client.software_specifications.get_id_by_name(\"runtime-22.2-py3.10\")\n",
                "software_spec_uid"
            ]
        },
        {
            "cell_type": "code",
            "execution_count": 16,
            "metadata": {},
            "outputs": [
                {
                    "data": {
                        "text/plain": [
                            "'e7ed1d6c-2e89-42d7-aed5-863b972c1d2b'"
                        ]
                    },
                    "execution_count": 16,
                    "metadata": {},
                    "output_type": "execute_result"
                }
            ],
            "source": [
                "#client.hardware_specifications.list() \n",
                "hardware_spec_uid = wml_client.hardware_specifications.get_id_by_name('S')\n",
                "hardware_spec_uid"
            ]
        },
        {
            "cell_type": "code",
            "execution_count": 17,
            "metadata": {},
            "outputs": [
                {
                    "data": {
                        "text/plain": [
                            "'b56101f1-309d-549b-a849-eaa63f77b2fb'"
                        ]
                    },
                    "execution_count": 17,
                    "metadata": {},
                    "output_type": "execute_result"
                }
            ],
            "source": [
                "software_spec_uid"
            ]
        },
        {
            "attachments": {},
            "cell_type": "markdown",
            "metadata": {},
            "source": [
                "### 4. Retrieve DVC-tracked trainin data reference from COS"
            ]
        },
        {
            "cell_type": "code",
            "execution_count": 18,
            "metadata": {},
            "outputs": [
                {
                    "data": {
                        "text/plain": [
                            "{'X_train':               time  latitude  longitude        stl1            tp     swvl1  \\\n",
                            " 383418  2023-01-07     49.05      32.35  273.509262  1.308243e-03  0.381918   \n",
                            " 1672526 2023-01-29     41.35      31.95  278.198369  1.080334e-02  0.407033   \n",
                            " 4610241 2023-03-22     56.85      33.05  273.563887  6.858681e-04  0.396030   \n",
                            " 1444657 2023-01-25     38.45      29.85  273.363105  3.725290e-09  0.306040   \n",
                            " 6471636 2023-04-24     54.65      33.35  279.434854  1.430511e-06  0.279207   \n",
                            " ...            ...       ...        ...         ...           ...       ...   \n",
                            " 2123762 2023-02-07     50.05      26.75  272.136679  7.457859e-04  0.358638   \n",
                            " 3030822 2023-02-23     64.55      34.35  271.310432  1.273321e-04  0.212345   \n",
                            " 6790267 2023-04-29     36.05      37.25  287.851026  6.773084e-04  0.142623   \n",
                            " 5948242 2023-04-15     55.15      27.55  279.759354  7.689683e-04  0.356013   \n",
                            " 2292072 2023-02-10     53.95      31.35  273.128058  7.418920e-05  0.346020   \n",
                            " \n",
                            "         valid_time  \n",
                            " 383418  2023-01-08  \n",
                            " 1672526 2023-01-30  \n",
                            " 4610241 2023-03-23  \n",
                            " 1444657 2023-01-26  \n",
                            " 6471636 2023-04-25  \n",
                            " ...            ...  \n",
                            " 2123762 2023-02-08  \n",
                            " 3030822 2023-02-24  \n",
                            " 6790267 2023-04-30  \n",
                            " 5948242 2023-04-16  \n",
                            " 2292072 2023-02-11  \n",
                            " \n",
                            " [3976201 rows x 7 columns],\n",
                            " 'y_train': 383418      0.601562\n",
                            " 1672526     0.718750\n",
                            " 4610241     0.437500\n",
                            " 1444657     0.171875\n",
                            " 6471636     0.468750\n",
                            "              ...    \n",
                            " 2123762    19.265625\n",
                            " 3030822     0.718750\n",
                            " 6790267     0.468750\n",
                            " 5948242     0.937500\n",
                            " 2292072     0.437500\n",
                            " Name: dis24, Length: 3976201, dtype: float32}"
                        ]
                    },
                    "execution_count": 18,
                    "metadata": {},
                    "output_type": "execute_result"
                }
            ],
            "source": [
                "# Load dvc-tracked testing package from cos\n",
                "train_package = read_dvc_tracked_data_from_cos(\"data/train_package.pkl\", \"GIT_REPOSITORY\")\n",
                "train_package"
            ]
        },
        {
            "cell_type": "code",
            "execution_count": 19,
            "metadata": {},
            "outputs": [],
            "source": [
                "X_train = train_package['X_train']\n",
                "y_train = train_package['y_train']"
            ]
        },
        {
            "cell_type": "code",
            "execution_count": 21,
            "metadata": {},
            "outputs": [],
            "source": [
                "# Only submit a few training rows to save some resources and time\n",
                "X = X_train.tail(100000)\n",
                "y = y_train.tail(100000)"
            ]
        },
        {
            "attachments": {},
            "cell_type": "markdown",
            "metadata": {},
            "source": [
                "### 5. Deploy Model"
            ]
        },
        {
            "cell_type": "code",
            "execution_count": 22,
            "metadata": {},
            "outputs": [],
            "source": [
                "model_name = \"flood-regression_model\"\n",
                "deployment_name = \"flood-regression_deployment\"\n",
                "model_type = \"scikit-learn_1.1\"\n",
                "target = \"dis24\"\n",
                "\n",
                "meta_props = {\n",
                "            wml_client.repository.ModelMetaNames.NAME: model_name,\n",
                "            wml_client.repository.ModelMetaNames.TYPE: model_type,\n",
                "            wml_client.repository.ModelMetaNames.SOFTWARE_SPEC_UID: software_spec_uid,\n",
                "            wml_client.repository.ModelMetaNames.LABEL_FIELD: target,\n",
                "            # wml_client._models.ConfigurationMetaNames.TRAINING_DATA_REFERENCES: train_data_ref,\n",
                "            wml_client.repository.ModelMetaNames.INPUT_DATA_SCHEMA: [\n",
                "                {\n",
                "                    \"id\": \"input_data_schema\",\n",
                "                    \"type\": \"list\",\n",
                "                    \"fields\": [\n",
                "                        {\"name\": index, \"type\": value}\n",
                "                        for index, value in X.dtypes.astype(str).items()\n",
                "                    ],\n",
                "                },\n",
                "            ],\n",
                "        }\n"
            ]
        },
        {
            "cell_type": "code",
            "execution_count": 23,
            "metadata": {},
            "outputs": [],
            "source": [
                "model_details = wml_client.repository.store_model(\n",
                "            model=model, meta_props=meta_props, training_data=X, training_target=y\n",
                ")"
            ]
        },
        {
            "cell_type": "code",
            "execution_count": 24,
            "metadata": {},
            "outputs": [
                {
                    "data": {
                        "text/plain": [
                            "'cfe93062-e307-40b3-9e2f-fe73e30ea632'"
                        ]
                    },
                    "execution_count": 24,
                    "metadata": {},
                    "output_type": "execute_result"
                }
            ],
            "source": [
                "model_uid = wml_client.repository.get_model_id(model_details)\n",
                "model_uid"
            ]
        },
        {
            "cell_type": "code",
            "execution_count": 25,
            "metadata": {},
            "outputs": [
                {
                    "name": "stdout",
                    "output_type": "stream",
                    "text": [
                        "\n",
                        "\n",
                        "#######################################################################################\n",
                        "\n",
                        "Synchronous deployment creation for uid: 'cfe93062-e307-40b3-9e2f-fe73e30ea632' started\n",
                        "\n",
                        "#######################################################################################\n",
                        "\n",
                        "\n",
                        "initializing\n",
                        "Note: online_url is deprecated and will be removed in a future release. Use serving_urls instead.\n",
                        "\n",
                        "ready\n",
                        "\n",
                        "\n",
                        "------------------------------------------------------------------------------------------------\n",
                        "Successfully finished deployment creation, deployment_uid='46401071-f986-4533-9f23-1596ea34e515'\n",
                        "------------------------------------------------------------------------------------------------\n",
                        "\n",
                        "\n"
                    ]
                }
            ],
            "source": [
                "meta_props = {\n",
                "    wml_client.deployments.ConfigurationMetaNames.NAME: deployment_name,\n",
                "    wml_client.deployments.ConfigurationMetaNames.ONLINE: {},\n",
                "}\n",
                "deployment_details = wml_client.deployments.create(\n",
                "    model_uid, meta_props=meta_props\n",
                ")"
            ]
        },
        {
            "cell_type": "code",
            "execution_count": 34,
            "metadata": {},
            "outputs": [
                {
                    "data": {
                        "text/plain": [
                            "'46401071-f986-4533-9f23-1596ea34e515'"
                        ]
                    },
                    "execution_count": 34,
                    "metadata": {},
                    "output_type": "execute_result"
                }
            ],
            "source": [
                "deployment_uid = wml_client.deployments.get_uid(deployment_details)\n",
                "deployment_uid"
            ]
        },
        {
            "attachments": {},
            "cell_type": "markdown",
            "metadata": {},
            "source": [
                "### 6. Model Testing on the Serving Endpoint\n",
                "\n"
            ]
        },
        {
            "attachments": {},
            "cell_type": "markdown",
            "metadata": {},
            "source": [
                "#### Load Sample Data "
            ]
        },
        {
            "attachments": {},
            "cell_type": "markdown",
            "metadata": {},
            "source": [
                "#### Load Test Data to Score against WML Endpoint"
            ]
        },
        {
            "cell_type": "code",
            "execution_count": 26,
            "metadata": {},
            "outputs": [
                {
                    "data": {
                        "text/plain": [
                            "{'X_test':               time  latitude  longitude        stl1        tp     swvl1  \\\n",
                            " 196490  2023-01-04     57.45      35.55  274.346373  0.012709  0.383775   \n",
                            " 1695950 2023-01-30     64.15      33.55  271.719986  0.000356  0.635060   \n",
                            " 3171536 2023-02-25     48.35      30.55  273.968750  0.000391  0.360959   \n",
                            " 3228297 2023-02-26     49.25      37.05  272.438057  0.004216  0.458436   \n",
                            " 3629990 2023-03-05     52.35      32.75  272.573876  0.004056  0.383429   \n",
                            " ...            ...       ...        ...         ...       ...       ...   \n",
                            " 704725  2023-01-13     66.85      30.25  272.277997  0.002061  0.210199   \n",
                            " 1001508 2023-01-18     62.65      38.15  271.255661  0.000497  0.217640   \n",
                            " 880876  2023-01-16     65.55      28.55  271.910438  0.005835  0.474234   \n",
                            " 6754564 2023-04-29     59.55      38.95  279.475731  0.009330  0.415607   \n",
                            " 4671010 2023-03-23     55.05      29.95  272.836868  0.000180  0.423059   \n",
                            " \n",
                            "         valid_time  \n",
                            " 196490  2023-01-05  \n",
                            " 1695950 2023-01-31  \n",
                            " 3171536 2023-02-26  \n",
                            " 3228297 2023-02-27  \n",
                            " 3629990 2023-03-06  \n",
                            " ...            ...  \n",
                            " 704725  2023-01-14  \n",
                            " 1001508 2023-01-19  \n",
                            " 880876  2023-01-17  \n",
                            " 6754564 2023-04-30  \n",
                            " 4671010 2023-03-24  \n",
                            " \n",
                            " [994051 rows x 7 columns],\n",
                            " 'y_test': 196490      2.078125\n",
                            " 1695950     0.156250\n",
                            " 3171536     0.500000\n",
                            " 3228297    44.000000\n",
                            " 3629990     0.562500\n",
                            "              ...    \n",
                            " 704725      0.625000\n",
                            " 1001508     0.015625\n",
                            " 880876      0.343750\n",
                            " 6754564     0.781250\n",
                            " 4671010     4.062500\n",
                            " Name: dis24, Length: 994051, dtype: float32}"
                        ]
                    },
                    "execution_count": 26,
                    "metadata": {},
                    "output_type": "execute_result"
                }
            ],
            "source": [
                "# Load dvc-tracked testing package from cos\n",
                "test_package = read_dvc_tracked_data_from_cos(test_package_dvc_location)\n",
                "test_package"
            ]
        },
        {
            "cell_type": "code",
            "execution_count": 29,
            "metadata": {},
            "outputs": [
                {
                    "data": {
                        "text/html": [
                            "<div>\n",
                            "<style scoped>\n",
                            "    .dataframe tbody tr th:only-of-type {\n",
                            "        vertical-align: middle;\n",
                            "    }\n",
                            "\n",
                            "    .dataframe tbody tr th {\n",
                            "        vertical-align: top;\n",
                            "    }\n",
                            "\n",
                            "    .dataframe thead th {\n",
                            "        text-align: right;\n",
                            "    }\n",
                            "</style>\n",
                            "<table border=\"1\" class=\"dataframe\">\n",
                            "  <thead>\n",
                            "    <tr style=\"text-align: right;\">\n",
                            "      <th></th>\n",
                            "      <th>time</th>\n",
                            "      <th>latitude</th>\n",
                            "      <th>longitude</th>\n",
                            "      <th>stl1</th>\n",
                            "      <th>tp</th>\n",
                            "      <th>swvl1</th>\n",
                            "      <th>valid_time</th>\n",
                            "    </tr>\n",
                            "  </thead>\n",
                            "  <tbody>\n",
                            "    <tr>\n",
                            "      <th>196490</th>\n",
                            "      <td>1672790400000000000</td>\n",
                            "      <td>57.45</td>\n",
                            "      <td>35.55</td>\n",
                            "      <td>274.346373</td>\n",
                            "      <td>0.012709</td>\n",
                            "      <td>0.383775</td>\n",
                            "      <td>1672876800000000000</td>\n",
                            "    </tr>\n",
                            "    <tr>\n",
                            "      <th>1695950</th>\n",
                            "      <td>1675036800000000000</td>\n",
                            "      <td>64.15</td>\n",
                            "      <td>33.55</td>\n",
                            "      <td>271.719986</td>\n",
                            "      <td>0.000356</td>\n",
                            "      <td>0.635060</td>\n",
                            "      <td>1675123200000000000</td>\n",
                            "    </tr>\n",
                            "    <tr>\n",
                            "      <th>3171536</th>\n",
                            "      <td>1677283200000000000</td>\n",
                            "      <td>48.35</td>\n",
                            "      <td>30.55</td>\n",
                            "      <td>273.968750</td>\n",
                            "      <td>0.000391</td>\n",
                            "      <td>0.360959</td>\n",
                            "      <td>1677369600000000000</td>\n",
                            "    </tr>\n",
                            "    <tr>\n",
                            "      <th>3228297</th>\n",
                            "      <td>1677369600000000000</td>\n",
                            "      <td>49.25</td>\n",
                            "      <td>37.05</td>\n",
                            "      <td>272.438057</td>\n",
                            "      <td>0.004216</td>\n",
                            "      <td>0.458436</td>\n",
                            "      <td>1677456000000000000</td>\n",
                            "    </tr>\n",
                            "    <tr>\n",
                            "      <th>3629990</th>\n",
                            "      <td>1677974400000000000</td>\n",
                            "      <td>52.35</td>\n",
                            "      <td>32.75</td>\n",
                            "      <td>272.573876</td>\n",
                            "      <td>0.004056</td>\n",
                            "      <td>0.383429</td>\n",
                            "      <td>1678060800000000000</td>\n",
                            "    </tr>\n",
                            "  </tbody>\n",
                            "</table>\n",
                            "</div>"
                        ],
                        "text/plain": [
                            "                        time  latitude  longitude        stl1        tp  \\\n",
                            "196490   1672790400000000000     57.45      35.55  274.346373  0.012709   \n",
                            "1695950  1675036800000000000     64.15      33.55  271.719986  0.000356   \n",
                            "3171536  1677283200000000000     48.35      30.55  273.968750  0.000391   \n",
                            "3228297  1677369600000000000     49.25      37.05  272.438057  0.004216   \n",
                            "3629990  1677974400000000000     52.35      32.75  272.573876  0.004056   \n",
                            "\n",
                            "            swvl1           valid_time  \n",
                            "196490   0.383775  1672876800000000000  \n",
                            "1695950  0.635060  1675123200000000000  \n",
                            "3171536  0.360959  1677369600000000000  \n",
                            "3228297  0.458436  1677456000000000000  \n",
                            "3629990  0.383429  1678060800000000000  "
                        ]
                    },
                    "execution_count": 29,
                    "metadata": {},
                    "output_type": "execute_result"
                }
            ],
            "source": [
                "# Take a few rows and score them against the deployed model/WML endpoint\n",
                "a_few_rows = test_package['X_test'].head(5)\n",
                "a_few_rows = a_few_rows.apply(pd.to_numeric, errors=\"coerce\")\n",
                "a_few_rows\n"
            ]
        },
        {
            "attachments": {},
            "cell_type": "markdown",
            "metadata": {},
            "source": [
                "#### Score the Endpoint"
            ]
        },
        {
            "cell_type": "code",
            "execution_count": 35,
            "metadata": {},
            "outputs": [
                {
                    "data": {
                        "text/plain": [
                            "{'predictions': [{'fields': ['prediction'], 'values': [[9.992476463317871]]}]}"
                        ]
                    },
                    "execution_count": 35,
                    "metadata": {},
                    "output_type": "execute_result"
                }
            ],
            "source": [
                "predictions = wml_client.deployments.score(deployment_uid, payload_scoring)\n",
                "predictions"
            ]
        },
        {
            "cell_type": "code",
            "execution_count": 44,
            "metadata": {},
            "outputs": [
                {
                    "name": "stdout",
                    "output_type": "stream",
                    "text": [
                        "{'predictions': [{'fields': ['prediction'], 'values': [[9.992476463317871]]}]}\n",
                        "{'predictions': [{'fields': ['prediction'], 'values': [[8.182958602905273]]}]}\n",
                        "{'predictions': [{'fields': ['prediction'], 'values': [[36.460670471191406]]}]}\n",
                        "{'predictions': [{'fields': ['prediction'], 'values': [[48.54684066772461]]}]}\n",
                        "{'predictions': [{'fields': ['prediction'], 'values': [[10.985206604003906]]}]}\n"
                    ]
                }
            ],
            "source": [
                "fields = list(test_package['X_test'].keys()) # feature cols\n",
                "\n",
                "# For loop to score for each row in \"a_few_rows\"\n",
                "for val in range(len(a_few_rows)):\n",
                "    payload_scoring = {\"input_data\": [{\"fields\": fields, \"values\": [a_few_rows.iloc[val].tolist()]}]}\n",
                "    predictions = wml_client.deployments.score(deployment_uid, payload_scoring)\n",
                "    print(predictions)\n"
            ]
        },
        {
            "attachments": {},
            "cell_type": "markdown",
            "metadata": {},
            "source": [
                "## Save Params in WS Pipeline"
            ]
        },
        {
            "cell_type": "code",
            "execution_count": null,
            "metadata": {},
            "outputs": [],
            "source": [
                "deployment_done = {}\n",
                "deployment_done['deployment_status'] = deploy_done\n",
                "deployment_done['deployment_id'] = deployment_uid\n",
                "deployment_done['model_id'] = model_uid\n",
                "deployment_done['space_id'] = SPACE_ID"
            ]
        },
        {
            "cell_type": "code",
            "execution_count": null,
            "metadata": {},
            "outputs": [],
            "source": [
                "pipelines_client = WSPipelines.from_apikey(apikey=CLOUD_API_KEY)\n",
                "pipelines_client.store_results(deployment_done)"
            ]
        }
    ],
    "metadata": {
        "kernelspec": {
            "display_name": "Python 3",
            "language": "python",
            "name": "python3"
        },
        "language_info": {
            "codemirror_mode": {
                "name": "ipython",
                "version": 3
            },
            "file_extension": ".py",
            "mimetype": "text/x-python",
            "name": "python",
            "nbconvert_exporter": "python",
            "pygments_lexer": "ipython3",
            "version": "3.9.6"
        },
        "vscode": {
            "interpreter": {
                "hash": "bd385fe162c5ca0c84973b7dd5c518456272446b2b64e67c2a69f949ca7a1754"
            }
        }
    },
    "nbformat": 4,
    "nbformat_minor": 1
}
