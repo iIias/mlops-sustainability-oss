{
    "cells": [
        {
            "attachments": {},
            "cell_type": "markdown",
            "metadata": {},
            "source": [
                "## Deploying the Model"
            ]
        },
        {
            "attachments": {},
            "cell_type": "markdown",
            "metadata": {},
            "source": [
                "### 🎯 Deploy the newest model version tracked by DVC.\n",
                "If retrieving recent data and updating or dataset will produce a worse performing model, we will have rolled back the model version via DVC and therefore not automatically deploy the worst model.\n",
                "\n",
                "---\n",
                "\n",
                "When this notebook is executed, we expect <br>**(1)** Serialized model tracked with DVC <br>**(2)** Knowledge of the models location within DVCFileSystem (Path within Git Repository for DVC tracking)\n",
                "\n",
                "Steps covered in this notebook:\n",
                "1. Retrieve parameters\n",
                "2. Retrieve DVC-tracked model from COS\n",
                "3. Prepare Watson Machine Learning environment for Model Deployment\n",
                "4. Retrieve DVC-tracked trainin data reference from COS\n",
                "5. Deploy Model\n",
                "6. Model Testing on the Serving Endpoint"
            ]
        },
        {
            "attachments": {},
            "cell_type": "markdown",
            "metadata": {},
            "source": [
                "### The following cell is a way to get the utility script required for this notebook. \n",
                "Since IBM CPD SaaS doesn't have a filesystem, this is the only reliable way to get scripts on the cloud environment. \n",
                "```\n",
                "!rm -rf MLOps-CPD && git clone --quiet -b master https://github.com/IBM/MLOps-CPD.git\n",
                "```\n",
                "⚠️ Run the following cells only if you are executing on IBM CPD SaaS."
            ]
        },
        {
            "cell_type": "code",
            "execution_count": null,
            "metadata": {},
            "outputs": [],
            "source": [
                "#!rm -rf MLOps-CPD && git clone --quiet -b master https://github.com/IBM/MLOps-CPD.git"
            ]
        },
        {
            "cell_type": "code",
            "execution_count": null,
            "metadata": {},
            "outputs": [],
            "source": [
                "#!mv MLOps-CPD MLOps_CPD"
            ]
        },
        {
            "cell_type": "code",
            "execution_count": null,
            "metadata": {},
            "outputs": [],
            "source": [
                "!python3 -m pip install ibm_watson_machine_learning"
            ]
        },
        {
            "cell_type": "code",
            "execution_count": null,
            "metadata": {},
            "outputs": [],
            "source": [
                "from ibm_watson_studio_pipelines import WSPipelines\n",
                "from ibm_watson_machine_learning import APIClient\n",
                "import ibm_boto3\n",
                "\n",
                "from botocore.client import Config\n",
                "from sklearn.model_selection import train_test_split\n",
                "from dataclasses import dataclass\n",
                "import numpy as np\n",
                "import pandas as pd\n",
                "\n",
                "import pickle\n",
                "import dvc.api\n",
                "import io\n",
                "\n",
                "import logging\n",
                "import os, types\n",
                "import warnings\n",
                "\n",
                "warnings.filterwarnings(\"ignore\")"
            ]
        },
        {
            "attachments": {},
            "cell_type": "markdown",
            "metadata": {},
            "source": [
                "## Succeeding cell contains the credentials for MLOps COS\n",
                "```\n",
                "## PROJECT COS \n",
                "AUTH_ENDPOINT = \"https://iam.cloud.ibm.com/oidc/token\"\n",
                "ENDPOINT_URL = \"https://s3.private.us.cloud-object-storage.appdomain.cloud\"\n",
                "API_KEY_COS = \"xxx\"\n",
                "BUCKET_PROJECT_COS = \"mlops-donotdelete-pr-qxxcecxi1dtw94\"\n",
                "\n",
                "## MLOPS COS\n",
                "ENDPOINT_URL_MLOPS = \"https://s3.jp-tok.cloud-object-storage.appdomain.cloud\"\n",
                "API_KEY_MLOPS = \"xxx\"\n",
                "CRN_MLOPS = \"xxx\"\n",
                "BUCKET_MLOPS  = \"mlops-asset\"\n",
                "\n",
                "## CATALOG\n",
                "CATALOG_NAME = \"MLOps-ns\"\n",
                "```"
            ]
        },
        {
            "attachments": {},
            "cell_type": "markdown",
            "metadata": {},
            "source": [
                "### 1. Retrieve Parameters"
            ]
        },
        {
            "cell_type": "code",
            "execution_count": null,
            "metadata": {},
            "outputs": [],
            "source": [
                "# For testing: Uncomment this cell and put your credentials in credentials.py to run locally.\n",
                "# from credentials import set_env_variables_for_credentials\n",
                "# set_env_variables_for_credentials()"
            ]
        },
        {
            "attachments": {},
            "cell_type": "markdown",
            "metadata": {},
            "source": [
                "#### Pipeline Environment"
            ]
        },
        {
            "cell_type": "code",
            "execution_count": null,
            "metadata": {},
            "outputs": [],
            "source": [
                "CLOUD_API_KEY = os.getenv(\"CLOUD_API_KEY\")\n",
                "\n",
                "# Model parameters\n",
                "MODEL_NAME = os.getenv(\"model_name\")\n",
                "DEPLOYMENT_NAME = os.getenv(\"deployment_name\")\n",
                "SPACE_ID = os.getenv(\"space_id\") # Deployment Space Id to deploy to\n",
                "# \"ff681eb5-f5aa-4bf9-9c26-a7fbef89853f\"\n",
                "# model_id = os.getenv('model_id')"
            ]
        },
        {
            "attachments": {},
            "cell_type": "markdown",
            "metadata": {},
            "source": [
                "#### Cloud Object Storage (COS) Credentials"
            ]
        },
        {
            "cell_type": "code",
            "execution_count": null,
            "metadata": {},
            "outputs": [],
            "source": [
                "GIT_REPOSITORY = os.getenv(\"GIT_REPOSITORY\")\n",
                "model_dvc_location = os.getenv(\"model_dvc_location\")\n",
                "train_package_dvc_location = os.getenv(\"train_package_dvc_location\") \n",
                "test_package_dvc_location = os.getenv(\"test_package_dvc_location\")"
            ]
        },
        {
            "cell_type": "code",
            "execution_count": null,
            "metadata": {},
            "outputs": [],
            "source": [
                "# For testing\n",
                "# train_package_dvc_location = \"data/train_package.pkl\"\n",
                "# test_package_dvc_location = \"data/test_package.pkl\""
            ]
        },
        {
            "attachments": {},
            "cell_type": "markdown",
            "metadata": {},
            "source": [
                "### 2. Retrieve DVC-tracked model from COS"
            ]
        },
        {
            "cell_type": "code",
            "execution_count": null,
            "metadata": {},
            "outputs": [],
            "source": [
                "def read_dvc_tracked_data_from_cos(dvc_path, repo, mode='rb'):\n",
                "    return pickle.load(io.BytesIO(dvc.api.read(dvc_path,repo=repo, mode=mode)))"
            ]
        },
        {
            "cell_type": "code",
            "execution_count": null,
            "metadata": {},
            "outputs": [],
            "source": [
                "model = read_dvc_tracked_data_from_cos(\"model/xgbr.pkl\", GIT_REPOSITORY)\n",
                "model"
            ]
        },
        {
            "attachments": {},
            "cell_type": "markdown",
            "metadata": {},
            "source": [
                "### 3. Prepare Watson Machine Learning environment for Model Deployment"
            ]
        },
        {
            "attachments": {},
            "cell_type": "markdown",
            "metadata": {},
            "source": [
                "#### Instantiate WML Client"
            ]
        },
        {
            "cell_type": "code",
            "execution_count": null,
            "metadata": {},
            "outputs": [],
            "source": [
                "url_frankfurt = \"https://eu-de.ml.cloud.ibm.com\"\n",
                "url_dallas = \"https://us-south.ml.cloud.ibm.com\""
            ]
        },
        {
            "cell_type": "code",
            "execution_count": null,
            "metadata": {},
            "outputs": [],
            "source": [
                "WML_CREDENTIALS = {\n",
                "                   \"url\": url_dallas,\n",
                "                   \"apikey\": CLOUD_API_KEY\n",
                "            }\n",
                "\n",
                "\n",
                "wml_client = APIClient(WML_CREDENTIALS)\n",
                "wml_client.version"
            ]
        },
        {
            "cell_type": "code",
            "execution_count": null,
            "metadata": {},
            "outputs": [],
            "source": [
                "wml_client.set.default_space(SPACE_ID)"
            ]
        },
        {
            "cell_type": "code",
            "execution_count": null,
            "metadata": {},
            "outputs": [],
            "source": [
                "software_spec_uid = wml_client.software_specifications.get_id_by_name(\"runtime-22.2-py3.10\")\n",
                "software_spec_uid"
            ]
        },
        {
            "cell_type": "code",
            "execution_count": null,
            "metadata": {},
            "outputs": [],
            "source": [
                "#client.hardware_specifications.list() \n",
                "hardware_spec_uid = wml_client.hardware_specifications.get_id_by_name('S')\n",
                "hardware_spec_uid"
            ]
        },
        {
            "cell_type": "code",
            "execution_count": null,
            "metadata": {},
            "outputs": [],
            "source": [
                "software_spec_uid"
            ]
        },
        {
            "attachments": {},
            "cell_type": "markdown",
            "metadata": {},
            "source": [
                "### 4. Retrieve DVC-tracked trainin data reference from COS"
            ]
        },
        {
            "cell_type": "code",
            "execution_count": null,
            "metadata": {},
            "outputs": [],
            "source": [
                "# Load dvc-tracked testing package from cos\n",
                "train_package = read_dvc_tracked_data_from_cos(\"data/train_package.pkl\", \"GIT_REPOSITORY\")\n",
                "train_package"
            ]
        },
        {
            "cell_type": "code",
            "execution_count": null,
            "metadata": {},
            "outputs": [],
            "source": [
                "X_train = train_package['X_train']\n",
                "y_train = train_package['y_train']"
            ]
        },
        {
            "cell_type": "code",
            "execution_count": null,
            "metadata": {},
            "outputs": [],
            "source": [
                "# Only submit a few training rows to save resources and time\n",
                "X = X_train.tail(100000)\n",
                "y = y_train.tail(100000)"
            ]
        },
        {
            "attachments": {},
            "cell_type": "markdown",
            "metadata": {},
            "source": [
                "### 5. Deploy Model"
            ]
        },
        {
            "cell_type": "code",
            "execution_count": null,
            "metadata": {},
            "outputs": [],
            "source": [
                "model_name = \"flood-regression_model\"\n",
                "deployment_name = \"flood-regression_deployment\"\n",
                "model_type = \"scikit-learn_1.1\"\n",
                "target = \"dis24\" # predictant\n",
                "\n",
                "meta_props = {\n",
                "            wml_client.repository.ModelMetaNames.NAME: model_name,\n",
                "            wml_client.repository.ModelMetaNames.TYPE: model_type,\n",
                "            wml_client.repository.ModelMetaNames.SOFTWARE_SPEC_UID: software_spec_uid,\n",
                "            wml_client.repository.ModelMetaNames.LABEL_FIELD: target,\n",
                "            # wml_client._models.ConfigurationMetaNames.TRAINING_DATA_REFERENCES: train_data_ref,\n",
                "            wml_client.repository.ModelMetaNames.INPUT_DATA_SCHEMA: [\n",
                "                {\n",
                "                    \"id\": \"input_data_schema\",\n",
                "                    \"type\": \"list\",\n",
                "                    \"fields\": [\n",
                "                        {\"name\": index, \"type\": value}\n",
                "                        for index, value in X.dtypes.astype(str).items()\n",
                "                    ],\n",
                "                },\n",
                "            ],\n",
                "        }\n"
            ]
        },
        {
            "cell_type": "code",
            "execution_count": null,
            "metadata": {},
            "outputs": [],
            "source": [
                "model_details = wml_client.repository.store_model(\n",
                "            model=model, meta_props=meta_props, training_data=X, training_target=y\n",
                ")"
            ]
        },
        {
            "cell_type": "code",
            "execution_count": null,
            "metadata": {},
            "outputs": [],
            "source": [
                "model_uid = wml_client.repository.get_model_id(model_details)\n",
                "model_uid"
            ]
        },
        {
            "cell_type": "code",
            "execution_count": null,
            "metadata": {},
            "outputs": [],
            "source": [
                "meta_props = {\n",
                "    wml_client.deployments.ConfigurationMetaNames.NAME: deployment_name,\n",
                "    wml_client.deployments.ConfigurationMetaNames.ONLINE: {},\n",
                "}\n",
                "deployment_details = wml_client.deployments.create(\n",
                "    model_uid, meta_props=meta_props\n",
                ")"
            ]
        },
        {
            "cell_type": "code",
            "execution_count": null,
            "metadata": {},
            "outputs": [],
            "source": [
                "deployment_uid = wml_client.deployments.get_uid(deployment_details)\n",
                "deployment_uid"
            ]
        },
        {
            "attachments": {},
            "cell_type": "markdown",
            "metadata": {},
            "source": [
                "### 6. Model Testing on the Serving Endpoint\n",
                "\n"
            ]
        },
        {
            "attachments": {},
            "cell_type": "markdown",
            "metadata": {},
            "source": [
                "#### Load Test Data to Score against WML Endpoint"
            ]
        },
        {
            "cell_type": "code",
            "execution_count": null,
            "metadata": {},
            "outputs": [],
            "source": [
                "# Load dvc-tracked testing package from cos\n",
                "test_package = read_dvc_tracked_data_from_cos(test_package_dvc_location)\n",
                "test_package"
            ]
        },
        {
            "cell_type": "code",
            "execution_count": null,
            "metadata": {},
            "outputs": [],
            "source": [
                "# Take a few rows and score them against the deployed model/WML endpoint\n",
                "a_few_rows = test_package['X_test'].head(5)\n",
                "a_few_rows = a_few_rows.apply(pd.to_numeric, errors=\"coerce\")\n",
                "a_few_rows\n"
            ]
        },
        {
            "attachments": {},
            "cell_type": "markdown",
            "metadata": {},
            "source": [
                "#### Score the Endpoint"
            ]
        },
        {
            "cell_type": "code",
            "execution_count": null,
            "metadata": {},
            "outputs": [],
            "source": [
                "predictions = wml_client.deployments.score(deployment_uid, payload_scoring)\n",
                "predictions"
            ]
        },
        {
            "cell_type": "code",
            "execution_count": null,
            "metadata": {},
            "outputs": [],
            "source": [
                "fields = list(test_package['X_test'].keys()) # feature cols\n",
                "\n",
                "# For loop to score for each row in \"a_few_rows\"\n",
                "for val in range(len(a_few_rows)):\n",
                "    payload_scoring = {\"input_data\": [{\"fields\": fields, \"values\": [a_few_rows.iloc[val].tolist()]}]}\n",
                "    predictions = wml_client.deployments.score(deployment_uid, payload_scoring)\n",
                "    print(predictions)\n"
            ]
        },
        {
            "attachments": {},
            "cell_type": "markdown",
            "metadata": {},
            "source": [
                "## Save Params in WS Pipeline"
            ]
        },
        {
            "cell_type": "code",
            "execution_count": null,
            "metadata": {},
            "outputs": [],
            "source": [
                "deployment_done = {}\n",
                "deployment_done['deployment_status'] = deploy_done\n",
                "deployment_done['deployment_id'] = deployment_uid\n",
                "deployment_done['model_id'] = model_uid\n",
                "deployment_done['space_id'] = SPACE_ID"
            ]
        },
        {
            "cell_type": "code",
            "execution_count": null,
            "metadata": {},
            "outputs": [],
            "source": [
                "pipelines_client = WSPipelines.from_apikey(apikey=CLOUD_API_KEY)\n",
                "pipelines_client.store_results(deployment_done)"
            ]
        }
    ],
    "metadata": {
        "kernelspec": {
            "display_name": "Python 3",
            "language": "python",
            "name": "python3"
        },
        "language_info": {
            "codemirror_mode": {
                "name": "ipython",
                "version": 3
            },
            "file_extension": ".py",
            "mimetype": "text/x-python",
            "name": "python",
            "nbconvert_exporter": "python",
            "pygments_lexer": "ipython3",
            "version": "3.9.6"
        },
        "vscode": {
            "interpreter": {
                "hash": "bd385fe162c5ca0c84973b7dd5c518456272446b2b64e67c2a69f949ca7a1754"
            }
        }
    },
    "nbformat": 4,
    "nbformat_minor": 1
}
